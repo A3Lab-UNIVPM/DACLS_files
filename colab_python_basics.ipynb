{
  "nbformat": 4,
  "nbformat_minor": 0,
  "metadata": {
    "colab": {
      "name": "colab_python_basics.ipynb",
      "provenance": [],
      "collapsed_sections": [],
      "toc_visible": true,
      "authorship_tag": "ABX9TyPilW7jTL1rhx2Pwa5Jgtj2",
      "include_colab_link": true
    },
    "kernelspec": {
      "name": "python3",
      "display_name": "Python 3"
    },
    "language_info": {
      "name": "python"
    }
  },
  "cells": [
    {
      "cell_type": "markdown",
      "metadata": {
        "id": "view-in-github",
        "colab_type": "text"
      },
      "source": [
        "<a href=\"https://colab.research.google.com/github/A3Lab-UNIVPM/DACLS_files/blob/main/colab_python_basics.ipynb\" target=\"_parent\"><img src=\"https://colab.research.google.com/assets/colab-badge.svg\" alt=\"Open In Colab\"/></a>"
      ]
    },
    {
      "cell_type": "code",
      "execution_count": null,
      "metadata": {
        "id": "O-1ieVJiekgh"
      },
      "outputs": [],
      "source": [
        ""
      ]
    },
    {
      "cell_type": "markdown",
      "metadata": {
        "id": "sa7vou-J3FhX"
      },
      "source": [
        "#Guida *Google Colab* and *Python* basics\n",
        "\n",
        "\n",
        "---\n",
        "\n"
      ]
    },
    {
      "cell_type": "markdown",
      "metadata": {
        "id": "eKpkeSf8Y5Em"
      },
      "source": [
        "####INTRODUZIONE"
      ]
    },
    {
      "cell_type": "markdown",
      "metadata": {
        "id": "t7qUjcEfY-Bi"
      },
      "source": [
        "Questo documento contiene una veloce panoramica introduttiva sugli aspetti necessari a comprendere le prossime esercitazioni, in cui verranno mostrati progetti di *Deep Learning* in ambito *Audio Processing, Signal Processing e Speech Enhancement*.\n",
        "\n",
        "Il documento è suddiviso in sezioni, con parti di testo descrittivo e parti di codice commentato.\n",
        "\n",
        "Verrà inizialmente introdotta una guida *quick start* sulle funzionalità principali dell'ambiente di sviluppo Google Colab, e successivamente una serie di concetti di programmazione in linguaggio Python, che possono essere utili per comprendere la sintassi e le strutture che verranno presentate nelle prossime esercitazioni.\n",
        "\n",
        "Oltre alla sintassi del Python standard, nelle ultime due sezioni vengono presentate sinteticamente le funzioni delle librerie **Numpy** per il calcolo scientifico, e **Matplotlib** per la visualizzazione grafica.\\\n",
        "In alcuni blocchi il codice è stato volutamente espresso in forma di pseudo-codice, per aumentare la generalizzazione del concetto trattato; per questo motivo l'esecuzione deve essere fatta valutandone prima il contenuto,  eventualmente modificando parti di codice e inserendo delle funzioni di stampa per controllare i risultati delle elaborazioni.\n",
        "\n",
        "La visualizzazione corrente del documento è in sola lettura; è necessario cliccare sul badge ![Open In Collab](https://colab.research.google.com/assets/colab-badge.svg) in alto per aprirlo all'interno di Google Colab da cui può essere eseguito e modificato."
      ]
    },
    {
      "cell_type": "markdown",
      "metadata": {
        "id": "iCrbpI_F54qW"
      },
      "source": [
        "#### GOOGLE COLAB"
      ]
    },
    {
      "cell_type": "markdown",
      "metadata": {
        "id": "Legtuiek7Tfv"
      },
      "source": [
        "Google COLAB è un servizio in cloud fornito da Google, che mette a disposizione degli sviluppatori la capacità di calcolo dei propri server, attraverso un ambiente di sviluppo per il linguaggio Python accessibile tramite browser.\n",
        "\n",
        "Per utilizzare la versione gratuita del servizio è sufficiente un PC con accesso a Internet ed un account Google. Esiste anche una versione *PRO*, a pagamento, che fornisce maggiori risorse di memoria e di calcolo, tuttavia le risorse della versione *FREE* sono più che sufficienti per sviluppare progetti di media complessità.\n",
        "\n",
        "Gli utenti che dispongono di un account Google possono creare un nuovo documento COLAB accedendo al proprio Google Drive e selezionando `Nuovo --> Altro --> Google Colaboratory`. Chi non ha mai utilizzato Colab deve inserirlo tra le possibili voci di menù scegliendo `Nuovo --> Altro --> + Collega altre applicazioni`.\n",
        "\n",
        "Ogni utente (*FREE*) può utilizzare contemporaneamente fino ad un massimo di tre *sessioni*, che corrispondono ad altrettante macchine virtuali (VM) che Google crea appositamente sui propri server, riservando per ognuna:\n",
        " - Una vCPU 2-core (nel runtime CPU), oppure\n",
        " - Una GPU Nvidia (assegnata casualmente, tra i modelli K80, T4, P4, P100), oppure\n",
        " - Una TPU (Tensor Processing Unit)\n",
        " - 13 GB RAM (circa)\n",
        " - 100 GB di spazio su disco (circa)\n",
        "\n",
        "Per conoscere le specifiche della sessione corrente si possono usare i comandi Unix: \n",
        "\n",
        "```\n",
        "!df -h\n",
        "!cat /proc/cpuinfo\n",
        "!cat /proc/meminfo\n",
        "!nvidia-smi\n",
        "```\n",
        "da eseguire in un blocco di codice. In generale, i comandi preceduti da `!` vengono eseguiti sulla shell della macchina virtuale.\\\n",
        "Di default Google avvia una sessione basata su CPU. Per cambiare tipo di risorsa si utilizza il menu `Runtime --> Cambia tipo di runtime`.\\\n",
        "Ogni volta che viene cambiato il tipo di runtime il kernel Python viene riavviato, ciò significa che tutte le variabili delle precedenti elaborazioni vengono cancellate. I dati salvati sullo spazio disco della VM invece rimangono memorizzati fintanto che la sessione è attiva.\n",
        "\n",
        "Per ottimizzare l'uso delle risorse, Google controlla l'attività delle sessioni e disconnette quelle che ritiene \"inattive\" secondo una sua politica non ben definita, quindi per non perdere i progressi del lavoro corrente è importante monitorare lo stato della sessione e, se questa si protrae a lungo, \"simulare\" un qualche tipo di attività (scrivere/cancellare codice, cliccare menù, etc).\n",
        "\\\n",
        "\\\n",
        "I progetti COLAB sono strutturati in un unico blocco note *Jupyter* che viene creato e salvato automaticamente ad intervalli regolari, sul proprio spazio Google Drive. Il blocco note ha estensione *.ipynb* e può essere editato con altri IDE (come ad es. Jupyter LAB) o condiviso con altri utenti Google per la modifica collaborativa.\n",
        "\n",
        "All'interno del blocco note si possono inserire due tipi di celle:\n",
        " - **Codice**\n",
        " - **Testo** (per inserire testo in formato Markdown, LaTeX o immagini).\n",
        "\n",
        "Nelle celle di codice (Python) si possono inserire commenti anteponendo ad ogni riga il simbolo `#`. Per commentare o decommentare interi blocchi di codice, dopo averli selezionati si utilizza la scorciatoia `Alt + \"/\"`\n",
        "\n",
        "L'esecuzione del codice di una cella si avvia con il pulsante a sinistra della prima riga di codice della stessa cella, oppure con la scorciatoia `Ctrl + Invio`.\\\n",
        "Il pulsante di avvio mostra un'animazione durante l'avanzamento dell'operazione.\\\n",
        "Se l'esecuzione avviene senza errori la cella ritorna al suo stato iniziale ed eventualmente compare sotto di essa una zona che visualizza l'output dell'elaborazione (testo, immagini etc.). L'output viene salvato assieme al file *.ipynb*, ed è visibile fintanto che non viene manualmente cancellato o la cella non viene eseguita nuovamente (quindi attenzione a salvare i risultati non appena possibile!).\\\n",
        "Nel pulsante di avvio comparirà un numero che rappresenta l'ordine di esecuzione della cella, tra tutte quelle presenti nel notebook.\n",
        "\\\n",
        "\\\n",
        "Nei progetti di **Machine Learning** si ha spesso la necessità di utilizzare grandi quantità di dati (dataset) durante l'addestramento della rete ed è necessario che una copia di questi dati si trovi fisicamente sulla stessa macchina su cui viene eseguito il codice.\\\n",
        "In gran parte dei progetti tutorial, dove si fa uso di classici dataset (*benchmark dataset*) questi possono essere scaricati al momento, sullo spazio disco della VM, ricorrendo a funzioni apposite dei framework (Tensorflow, Pytorch, etc.).\\\n",
        "In alternativa, se il dataset da utilizzare è ospitato in un server può essere scaricato nella sessione corrente della macchina virtuale tramite il comando `!wget`, o caricato dal proprio PC tramite drag and drop; i dati saranno mantenuti fintanto che la sessione è attiva.\\\n",
        "Per quest'ultima ragione, il modo migliore per poter accedere al proprio dataset in maniera rapida, è quello di pre-caricarlo sullo spazio Drive, il quale poi verrà *montato* come disco di sistema sulla macchina virtuale e potrà essere usato anche per salvare in modo sicuro eventuali file di output (la procedura è spiegata in dettaglio nella sezione *system interactions*).\n",
        "\n"
      ]
    },
    {
      "cell_type": "markdown",
      "metadata": {
        "id": "1Wvp_YSMYY_M"
      },
      "source": [
        "####PYTHON"
      ]
    },
    {
      "cell_type": "markdown",
      "metadata": {
        "id": "pmkuEYpPJgkJ"
      },
      "source": [
        "Python è un linguaggio di programmazione il cui utilizzo ha subito una rapida ascesa negli anni recenti, in molteplici campi. Le principali ragioni del suo successo possono essere riassunte nei seguenti punti:\n",
        "- è FREE\n",
        "- è un **linguaggio interpretato**, che quindi non necessita di un compilatore ma di un programma interprete, e ciò aumenta la portabilità del codice scritto, tra varie piattaforme e sistemi operativi.\n",
        "- ha un'ampia platea di utilizzatori, che formano una community solida, sia per gli sviluppatori esperti sia come punto di riferimento per i meno esperti.\n",
        "- è un linguaggio **multi-paradigma**, cioè consente sia la programmazione procedurale (funzioni) che quella orientata agli oggetti (classi).\n",
        "- è ricco di librerie che implementano funzioni di vario genere, per il machine learning, l'audio, la grafica, la matematica, la statistica etc..\n",
        "- è performante; molte librerie Python sono internamente scritte in C per sfruttare le librerie ottimizzate dei processori (BLAS) o la **parallelizzazione** dei calcoli tramite i CUDA cores delle schede GPU Nvidia.\n",
        "\n",
        "Le principali difficoltà per chi inizia a programmare in Python proveniendo da altri linguaggi sono date dal fatto che il linguaggio è **case sensitive**, ma soprattutto dall'utilizzo pervasivo delle **indentazioni**.\n"
      ]
    },
    {
      "cell_type": "markdown",
      "metadata": {
        "id": "1PlgMIOSPM1z"
      },
      "source": [
        "La versione Python utilizzata da COLAB al momento della scrittura di questa guida è la 3.7.13"
      ]
    },
    {
      "cell_type": "code",
      "metadata": {
        "id": "t250BR5QPKz0"
      },
      "source": [
        "!python --version"
      ],
      "execution_count": null,
      "outputs": []
    },
    {
      "cell_type": "markdown",
      "metadata": {
        "id": "YgnulKcv4aR-"
      },
      "source": [
        "#### VARIABILI E TIPI DI DATO"
      ]
    },
    {
      "cell_type": "markdown",
      "metadata": {
        "id": "uLA6EKuyWLkp"
      },
      "source": [
        "In Python le variabili si dichiarano ed inizializzano allo stesso tempo, senza specificare il tipo di dato:"
      ]
    },
    {
      "cell_type": "code",
      "metadata": {
        "id": "xt0jwIFRWMg9"
      },
      "source": [
        "cnt = 10"
      ],
      "execution_count": null,
      "outputs": []
    },
    {
      "cell_type": "markdown",
      "metadata": {
        "id": "BzUs9uupWRe7"
      },
      "source": [
        "`cnt` ora contiene un valore intero e potremo eseguire con essa solo le operazioni permesse sugli interi.\\\n",
        "In Python 3 il tipo *long* è stato eliminato e tutti gli interi vengono identificati nel tipo *int* il cui range di valori è esteso alla massima capacità di allocazione del sistema (32 o 64 bit)."
      ]
    },
    {
      "cell_type": "markdown",
      "metadata": {
        "id": "q3CiAOa_Wayp"
      },
      "source": [
        "BOOLEAN"
      ]
    },
    {
      "cell_type": "code",
      "metadata": {
        "id": "o6fbH4ODWfKP"
      },
      "source": [
        "is_max = True\n",
        "is_min = False"
      ],
      "execution_count": null,
      "outputs": []
    },
    {
      "cell_type": "markdown",
      "metadata": {
        "id": "lYxnnNjaZdpg"
      },
      "source": [
        "FLOAT"
      ]
    },
    {
      "cell_type": "code",
      "metadata": {
        "id": "cBuanGKyZiLU"
      },
      "source": [
        "a = 1.                          # la parte decimale nulla si può omettere\n",
        "pi_approx = 3.1415"
      ],
      "execution_count": null,
      "outputs": []
    },
    {
      "cell_type": "markdown",
      "metadata": {
        "id": "iANI-uPqZ1So"
      },
      "source": [
        "COMPLEX"
      ]
    },
    {
      "cell_type": "code",
      "metadata": {
        "id": "3OqvhxWeZt48"
      },
      "source": [
        "c = 2 + 3j"
      ],
      "execution_count": null,
      "outputs": []
    },
    {
      "cell_type": "markdown",
      "metadata": {
        "id": "IfZBZWVeaDp0"
      },
      "source": [
        "STRING"
      ]
    },
    {
      "cell_type": "code",
      "metadata": {
        "id": "Vj0WYeUS3EOP"
      },
      "source": [
        "my_message = \"Hello\\nWorld\"         # Le stringhe possono essere inserite tra doppie virgolette o virgolette singole"
      ],
      "execution_count": null,
      "outputs": []
    },
    {
      "cell_type": "markdown",
      "metadata": {
        "id": "vqZvxt-baOhp"
      },
      "source": [
        "Alcuni caratteri speciali (da includere tra virgolette):\\\n",
        "`\\n` Line Feed (ritorno a capo)\\\n",
        "`\\r` Carriage Return\\\n",
        "`\\b` Backspace\\\n",
        "`\\t` Tab\\\n",
        "`\\x` inserimento di un carattere tramite il valore esadecimale del codice Ascii"
      ]
    },
    {
      "cell_type": "markdown",
      "metadata": {
        "id": "abMu0TyP3OuE"
      },
      "source": [
        "LISTE\n",
        "\n",
        "Le liste sono contenitori di dati **ordinati** da un indice, **modificabili** in qualsiasi momento dopo la definizione ed ammettono elementi **duplicati**.\\\n",
        "Le liste vengono definite elencando gli elementi, separati da virgole, tra parentesi quadre:"
      ]
    },
    {
      "cell_type": "code",
      "metadata": {
        "id": "6M2_nE8SxtkA"
      },
      "source": [
        "epoch = [10, 20, 30, 40, 50]"
      ],
      "execution_count": null,
      "outputs": []
    },
    {
      "cell_type": "markdown",
      "metadata": {
        "id": "M8wLpGXNxxNA"
      },
      "source": [
        "possono contenere qualsiasi tipo di dato:"
      ]
    },
    {
      "cell_type": "code",
      "metadata": {
        "id": "SSCTrX-0yCii"
      },
      "source": [
        "list_of_ints = [1,2,3,4,5]\n",
        "list_of_floats = [1.0, 2.0, 3.0, 4.0, 5.0]\n",
        "list_of_strings = ['A', 'B', 'C', 'D', 'E']\n",
        "list_of_lists = [[1,2,3], ['a', 'b', 'c']]\n",
        "list_of_multi = ['A', 1, [2.0, 3.0]]\n",
        "# etc.."
      ],
      "execution_count": null,
      "outputs": []
    },
    {
      "cell_type": "markdown",
      "metadata": {
        "id": "LsB3Do4ZyaVM"
      },
      "source": [
        "Posso definire una lista vuota in due modi:"
      ]
    },
    {
      "cell_type": "code",
      "metadata": {
        "id": "k_JRF5jbyh7T"
      },
      "source": [
        "colors_l = []\n",
        "# o anche\n",
        "colors_l = list()"
      ],
      "execution_count": null,
      "outputs": []
    },
    {
      "cell_type": "markdown",
      "metadata": {
        "id": "POFg9eCLylpK"
      },
      "source": [
        "I metodi (funzioni) più comuni che permettono di manipolare le liste sono riportati di seguito:"
      ]
    },
    {
      "cell_type": "code",
      "metadata": {
        "id": "OMy4b_Qh3OOr"
      },
      "source": [
        "colors_l.append('Green')                  # aggiunge un elemento in coda alla lista\n",
        "colors_l.extend(['Blue', 'Red', 'Black']) # aggiunge più elementi in coda alla lista\n",
        "colors_l.insert(2, 'Black')               # inserisce un elemento in una posizione specifica\n",
        "colors_l.remove('Red')                    # rimuove un elemento per valore\n",
        "colors_l.count('Black')                   # conta il numero di elementi con un dato valore\n",
        "colors_l.index('Green')                   # restituisce la posizione della prima occorrenza di uno specifico elemento\n",
        "len(colors_l)                             # restituisce il numero di elementi di una lista\n",
        "colors_l.sort()                           # ordina gli elementi di una lista in ordine crescente (numerico o alfabetico)\n",
        "colors_l.sort(reverse=True)               # ordina gli elementi di una lista in ordine decrescente (numerico o alfabetico)\n",
        "colors_l.reverse()                        # inverte le posizioni degli elementi di una lista"
      ],
      "execution_count": null,
      "outputs": []
    },
    {
      "cell_type": "markdown",
      "metadata": {
        "id": "XkC7xYe-1t6V"
      },
      "source": [
        "le funzioni *sort* e *reverse* operano *in place* modificando la lista di origine.\n",
        "\n",
        "Per duplicare una lista creando una copia indipendente dall'originale non è sufficiente l'operatore \n",
        "`=` ma si utilizza la funzione `copy()`\n",
        "\n",
        " "
      ]
    },
    {
      "cell_type": "code",
      "metadata": {
        "id": "uqMdIAZt2zvU"
      },
      "source": [
        "colors_l2 = colors_l.copy()               # questo è l'unico metodo per creare una lista duplicata indipendente dall'originale"
      ],
      "execution_count": null,
      "outputs": []
    },
    {
      "cell_type": "markdown",
      "metadata": {
        "id": "qLqVVWMG37Ls"
      },
      "source": [
        "TUPLE\n",
        "\n",
        "Le tuple sono contenitori di dati **ordinati** da un indice e **non modificabili** dopo la definizione. Ammettono elementi **duplicati**.\\\n",
        "Le tuple vengono definite elencando gli elementi, separati da virgole, tra parentesi tonde:"
      ]
    },
    {
      "cell_type": "code",
      "metadata": {
        "id": "aiXZb4Yo3K9j"
      },
      "source": [
        "colors_t = ('Cyan', 'Magenta', 'Yellow', 'Black')\n",
        "\n",
        "# caso particolare: se una tupla ha un solo elemento esso deve essere seguito da virgola\n",
        "number_t = (100,)"
      ],
      "execution_count": null,
      "outputs": []
    },
    {
      "cell_type": "markdown",
      "metadata": {
        "id": "-Am7oFQD3tl5"
      },
      "source": [
        "poiché non sono modificabili, le tuple hanno meno metodi rispetto alle liste:"
      ]
    },
    {
      "cell_type": "code",
      "metadata": {
        "id": "vtZ5Xndi3xpN"
      },
      "source": [
        "colors_t.count('Cyan')                    # conta il numero di elementi con un dato valore\n",
        "colors_t.index('Magenta')                 # restituisce la posizione della prima occorrenza di uno specifico elemento\n",
        "len(colors_t)                             # restituisce il numero di elementi di una tupla"
      ],
      "execution_count": null,
      "outputs": []
    },
    {
      "cell_type": "markdown",
      "metadata": {
        "id": "GB12oFpb5MWn"
      },
      "source": [
        "Ricerca di un elemento specifico in una **lista** o in una **tupla**"
      ]
    },
    {
      "cell_type": "code",
      "metadata": {
        "id": "mr-0i5df3IdG"
      },
      "source": [
        "'Green' in colors_l                       # restituisce True se l'elemento cercato è presente nella lista, altrimenti False.\n",
        "'Purple' not in colors_t                  # restituisce True se l'elemento cercato è assente dalla lista, altrimenti False."
      ],
      "execution_count": null,
      "outputs": []
    },
    {
      "cell_type": "markdown",
      "metadata": {
        "id": "tU40q9bs4r9Z"
      },
      "source": [
        "Somma o concatenazione di **liste** o **tuple** (*join*)\\\n",
        "Due liste/tuple possono essere trasformate in una unica lista/tupla semplicemente con l'operatore +"
      ]
    },
    {
      "cell_type": "code",
      "metadata": {
        "id": "Xr8Xqu2Z41MW"
      },
      "source": [
        "l1 = [1,2,3]\n",
        "l2 = ['a','b','c']\n",
        "l3 = l1 + l2"
      ],
      "execution_count": null,
      "outputs": []
    },
    {
      "cell_type": "markdown",
      "metadata": {
        "id": "7uK3rCxJ5Q_s"
      },
      "source": [
        "Accesso ad uno o più elementi di una **lista** o **tupla**: *indexing* and *slicing*\\\n",
        "L'accesso ad uno o più elementi di una lista (o una tupla) avviene attraverso gli indici di posizione.\n",
        "Il primo elemento di una lista (tupla) ha indice **0**, diversamente di quanto avviene in Matlab in cui il primo elemento ha indice **1**."
      ]
    },
    {
      "cell_type": "code",
      "metadata": {
        "id": "M11G0wZ-bZhn"
      },
      "source": [
        "colors_l = ['Cyan', 'Magenta', 'Yellow', 'Black']\n",
        "\n",
        "colors_l[0]             # Cyan\n",
        "colors_l[4]             # non esiste\n",
        "colors_l[-1]            # Black, (ultimo elemento), gli indici negativi puntano alla fine\n",
        "colors_l[-2]            # Yellow (penultimo elemento)"
      ],
      "execution_count": null,
      "outputs": []
    },
    {
      "cell_type": "markdown",
      "metadata": {
        "id": "loHxeywd56ex"
      },
      "source": [
        "\n",
        "L'operazione di **slicing** consente di estrarre un sottoinsieme di elementi:\\\n",
        "`nomelista[start:end:step]` estrae gli elementi della lista, dall'indice *start* all'indice *end* escluso, con passo *step* (se omesso, step = 1)"
      ]
    },
    {
      "cell_type": "code",
      "metadata": {
        "id": "UE4gZ1qk6T7_"
      },
      "source": [
        "colors_l[0:2]           # [Cyan, Magenta]\n",
        "colors_l[:3]            # [Cyan, Magenta, Yellow] slicing dal primo elemento all'indice 3 escluso\n",
        "colors_l[2:]            # [Yellow, Black] slicing dall'indice 2 all'ultimo elemento incluso\n",
        "colors_l[::2]           # [Cyan, Yellow] slicing con passo 2\n",
        "colors_l[::-1]          # [Black, Yellow, Magenta, Cyan] slicing in ordine inverso (passo -1)"
      ],
      "execution_count": null,
      "outputs": []
    },
    {
      "cell_type": "markdown",
      "metadata": {
        "id": "erWK3-lI5fLT"
      },
      "source": [
        "Type casting\\\n",
        "L'operazione di casting permette di specificare il tipo di una variabile al momento della dichiarazione oppure convertire una variabile esistente in un diverso tipo, limitatamente ai casi possibili:"
      ]
    },
    {
      "cell_type": "code",
      "metadata": {
        "id": "r_7HAwWBbV7y"
      },
      "source": [
        "x = int()                       # nuova variabile intera, senza alcun valore\n",
        "x = int(1.0)                    # conversione da float a int\n",
        "x = int('123')                  # conversione da string a int (se possibile)\n",
        "x = float(1)                    # conversione da int a float\n",
        "x = float(\"3\")                  # conversione da string a float (se possibile)\n",
        "x = str(2)                      # conversione da int a string\n",
        "x = str(3.0)                    # conversione da float a string\n",
        "x = bool(n)                     # conversione da int o float a bool, restituisce False solo se n = 0, altrimenti restituisce True\n",
        "colors_l = list(colors_t)       # conversione da tupla a lista\n",
        "colors_t = tuple(colors_l)      # conversione da lista a tupla\n",
        "letters_l = list('Hello')       # conversione da string a lista di lettere ['H', 'e', 'l', 'l', 'o']\n",
        "letters_t = tuple('Hello')      # conversione da string a tupla di lettere ('H', 'e', 'l', 'l', 'o')"
      ],
      "execution_count": null,
      "outputs": []
    },
    {
      "cell_type": "markdown",
      "metadata": {
        "id": "Ho8XsAcX7_kR"
      },
      "source": [
        "DIZIONARI\n",
        "\n",
        "I dizionari (*dictionaries, dict*) sono strutture che permettono di memorizzare dati nella forma *key: value*\n",
        "\n",
        "Le chiavi devono comparire una sola volta, mentre i valori possono essere duplicati e contenere qualsiasi tipo di dato:"
      ]
    },
    {
      "cell_type": "code",
      "metadata": {
        "id": "jT6cDTqQ8m9C"
      },
      "source": [
        "d = {'città': 'Ancona',\n",
        "     'provincia': 'Ancona', \n",
        "     'regione': 'Marche',\n",
        "     'abitanti': 100696\n",
        "     }"
      ],
      "execution_count": null,
      "outputs": []
    },
    {
      "cell_type": "markdown",
      "metadata": {
        "id": "8zz5CbrA8z4s"
      },
      "source": [
        "Per accedere ad un elemento di un dizionario non si utilizzano gli indici ma il valore delle chiavi"
      ]
    },
    {
      "cell_type": "code",
      "metadata": {
        "id": "pix5EINn85mH"
      },
      "source": [
        "d['abitanti']                     # 100696"
      ],
      "execution_count": null,
      "outputs": []
    },
    {
      "cell_type": "markdown",
      "metadata": {
        "id": "EZmp4V-_88dZ"
      },
      "source": [
        "Un dizionario può essere creato anche in modo incrementale:"
      ]
    },
    {
      "cell_type": "code",
      "metadata": {
        "id": "b0-O8wUa9BkT"
      },
      "source": [
        "d = {}\n",
        "d['città'] = 'Ancona'\n",
        "d['provincia'] = 'Ancona', \n",
        "d['regione'] = 'Marche',\n",
        "d['abitanti'] = 100696"
      ],
      "execution_count": null,
      "outputs": []
    },
    {
      "cell_type": "markdown",
      "metadata": {
        "id": "jgU9B_Sk9DZm"
      },
      "source": [
        "Gli elementi di un dict non hanno un ordine specifico.\\\n",
        "I metodi più utili per operare sui dict sono riportati di seguito:"
      ]
    },
    {
      "cell_type": "code",
      "metadata": {
        "id": "rXZFEgX0WEUR"
      },
      "source": [
        "d.items()             # restituisce una lista di tuple (key, value) per tutti gli elementi del dict\n",
        "d.keys()              # restituisce la lista di tutte le keys del dict\n",
        "d.values()            # restituisce la lista di tutti i values del dict\n",
        "d.clear()             # cancella tutti gli elementi del dict"
      ],
      "execution_count": null,
      "outputs": []
    },
    {
      "cell_type": "markdown",
      "metadata": {
        "id": "zUcPDg-T9Pzh"
      },
      "source": [
        "come per le liste e le tuple, gli operatori `in` e `not in` possono essere usati per verificare la presenza di una specifica chiave o valore:"
      ]
    },
    {
      "cell_type": "code",
      "metadata": {
        "id": "2qSdwOaN9SO_"
      },
      "source": [
        "'città' in d          # True (ricerca nelle chiavi)\n",
        "'città' in d.keys()   # True, analogo al comando precedente\n",
        "'nazione' not in d    # True (ricerca nelle chiavi)\n",
        "100696 in d.values()  # True"
      ],
      "execution_count": null,
      "outputs": []
    },
    {
      "cell_type": "markdown",
      "metadata": {
        "id": "QFLs2rwqzON9"
      },
      "source": [
        "####OPERATORI E FUNZIONI DI BASE"
      ]
    },
    {
      "cell_type": "markdown",
      "metadata": {
        "id": "FtAC14et-gc0"
      },
      "source": [
        "Gli **operatori aritmetici** di base in Python sono gli stessi che si possono trovare nella maggior parte dei linguaggi:"
      ]
    },
    {
      "cell_type": "code",
      "metadata": {
        "id": "wKeh_v-L-tyA"
      },
      "source": [
        "a = b = 100     # assegnazione dello stesso valore a due variabili diverse\n",
        "a + b           # somma\n",
        "a - b           # sottrazione\n",
        "a * b           # moltiplicazione\n",
        "a ** b          # elevamento a potenza\n",
        "a / b           # divisione\n",
        "a // b          # divisione intera\n",
        "a % b           # modulo (resto della divisione intera)"
      ],
      "execution_count": null,
      "outputs": []
    },
    {
      "cell_type": "markdown",
      "metadata": {
        "id": "JgLeG7tk-vbG"
      },
      "source": [
        "Assegnazione e forme compatte"
      ]
    },
    {
      "cell_type": "code",
      "metadata": {
        "id": "kiEWb5DJ-0Up"
      },
      "source": [
        "a = b           # assegnazione\n",
        "a += b          # forma compatta per a = a + b\n",
        "a -= b          # forma compatta per a = a - b\n",
        "a *= b          # forma compatta per a = a * b\n",
        "a **= b         # forma compatta per a = a ** b\n",
        "a //= b         # forma compatta per a = a // b "
      ],
      "execution_count": null,
      "outputs": []
    },
    {
      "cell_type": "markdown",
      "metadata": {
        "id": "xWzu-A-v-2o4"
      },
      "source": [
        "Comparazione\\\n",
        "Ritornano un risultato di tipo *boolean*"
      ]
    },
    {
      "cell_type": "code",
      "metadata": {
        "id": "qI8XxAVz-9Rm"
      },
      "source": [
        "a == b          # uguale\n",
        "a != b          # diverso\n",
        "a < b           # minore\n",
        "a > b           # maggiore\n",
        "a <= b          # minore o uguale\n",
        "a >= b          # maggiore o uguale\n",
        "a is b          # a e b sono la stessa variabile\n",
        "a is not b      # a e b sono variabili diverse"
      ],
      "execution_count": null,
      "outputs": []
    },
    {
      "cell_type": "markdown",
      "metadata": {
        "id": "iLe6Lc1s_H6f"
      },
      "source": [
        "Operatori logici\\\n",
        "applicabile a variabili di tipo *boolean*\\\n",
        "(nelle espressioni logiche Python accetta anche valori numerici, considerando lo 0 come *False* e tutti i numeri diversi da 0 come *True*)"
      ]
    },
    {
      "cell_type": "code",
      "metadata": {
        "id": "YelJ1zPu_LwW"
      },
      "source": [
        "a and b         # and\n",
        "a or b          # or\n",
        "not a           # not"
      ],
      "execution_count": null,
      "outputs": []
    },
    {
      "cell_type": "markdown",
      "metadata": {
        "id": "e8ZLDXQv_V0L"
      },
      "source": [
        "Operatori logici bitwise\\\n",
        "applicabile a variabili numeriche, operano bit a bit"
      ]
    },
    {
      "cell_type": "code",
      "metadata": {
        "id": "namnM5_dzJtK"
      },
      "source": [
        "a = 5           # 0101\n",
        "b = 9           # 1001\n",
        "a & b           # and\n",
        "a | b           # or\n",
        "a ^ b           # xor\n",
        "~ b             # not\n",
        "a << b          # left shift and zero fill\n",
        "a >> b          # right shift and zero fill"
      ],
      "execution_count": null,
      "outputs": []
    },
    {
      "cell_type": "markdown",
      "metadata": {
        "id": "y1WpU7d6_d3N"
      },
      "source": [
        "BUILT-IN FUNCTIONS\\\n",
        "sono funzioni comprese nella libreria standard Python, utilizzabili senza importare librerie esterne"
      ]
    },
    {
      "cell_type": "code",
      "metadata": {
        "id": "FPUEI7YsZdO7"
      },
      "source": [
        "abs()           # valore assoluto\n",
        "max()           # valore massimo\n",
        "min()           # valore minimo\n",
        "round(x, n)     # arrotonda il valore di x a n cifre decimali\n",
        "sum()           # somma gli elementi di una lista/tupla\n",
        "all()           # restituisce True se tutti gli elementi di una lista/tupla sono True, altrimenti restituisce False\n",
        "any()           # restituisce True se almeno un elemento di una lista/tupla è True, altrimenti restituisce False\n",
        "type()          # scrive il tipo di una variabile"
      ],
      "execution_count": null,
      "outputs": []
    },
    {
      "cell_type": "markdown",
      "metadata": {
        "id": "8a3cJv0ACrwe"
      },
      "source": [
        "ZIP\\\n",
        "La funzione `zip()` aggrega due oggetti iterabili (liste/tuple) accoppiando gli elementi con lo stesso indice:\n"
      ]
    },
    {
      "cell_type": "code",
      "metadata": {
        "id": "JWffm1-jCOi7"
      },
      "source": [
        "numbers_l = [1, 2, 3]\n",
        "numbers_t = ('ONE', 'TWO', 'THREE')\n",
        "result = zip(numbers_l, numbers_t)      # Restituisce un iterator (vedi sezione successiva)\n",
        "print(list(result))                     # [(1, 'ONE'), (2, 'TWO'), (3, 'THREE')]"
      ],
      "execution_count": null,
      "outputs": []
    },
    {
      "cell_type": "markdown",
      "metadata": {
        "id": "rbR4Z5V-DolV"
      },
      "source": [
        "PRINT\\\n",
        "La funzione `print()` stampa a terminale qualsiasi tipo di informazione che viene passata come argomento.\\\n",
        "Può stampare valori numerici, stringhe, interi array. \n",
        "Se il dato ha una struttura complessa la funzione `print()` stampa il nome dell'oggetto o della classe."
      ]
    },
    {
      "cell_type": "code",
      "metadata": {
        "id": "c9sfoHG3am6E"
      },
      "source": [
        "a, b, c, d = 1, 2, 3.1412, 4500     # assegnazione multipla\n",
        "print(a)                            # stampa il valore di a\n",
        "print(a, b, c)                      # stampa i valori di più variabili"
      ],
      "execution_count": null,
      "outputs": []
    },
    {
      "cell_type": "markdown",
      "metadata": {
        "id": "nOeoCy-kEkEz"
      },
      "source": [
        "L'integrazione di più tipi di dati nella stessa `print()` ed in particolare stringhe e valori numerici può essere fatta in vari modi. Di seguito viene mostrata la formattazione *f-string* introdotta in Python 3:"
      ]
    },
    {
      "cell_type": "code",
      "metadata": {
        "id": "z6nItJ_LE-os"
      },
      "source": [
        "print(f'Il valore della variabile a è {a} ed il valore di b è {b}')\n",
        "print(f'Il valore della variabile c è {c:.3f}')                       # arrotonda la parte decimale a tre cifre\n",
        "print(f'Il valore della variabile d è {d:,}')                         # inserisce la virgola come separatore delle migliaia \n",
        "print(f'Il valore della somma è {a + b}')                             # funzione integrata\n",
        "print(f'Testo', end = '')                                             # non esegue il ritorno a capo dopo il print"
      ],
      "execution_count": null,
      "outputs": []
    },
    {
      "cell_type": "markdown",
      "metadata": {
        "id": "0SsrcAUThFXQ"
      },
      "source": [
        "####STRUTTURE CONDIZIONALI E ITERATORI"
      ]
    },
    {
      "cell_type": "markdown",
      "metadata": {
        "id": "kzQQ74X3G3O0"
      },
      "source": [
        "Di seguito sono riportate le sintassi delle strutture condizionali più comuni, in formato pseudo-codice:"
      ]
    },
    {
      "cell_type": "markdown",
      "metadata": {
        "id": "vUjOKabiGNPc"
      },
      "source": [
        "IF"
      ]
    },
    {
      "cell_type": "code",
      "metadata": {
        "id": "VzWPp3y9GOn2"
      },
      "source": [
        "if condizione:          # condizione singola\n",
        "  istruzione            # tutte le istruzioni all'interno dell'if devono avere la stessa indentazione\n",
        "  istruzione\n",
        "  ...\n",
        "\n",
        "if condizione1 and condizione2 or not condizione3:    # condizione multipla\n",
        "  istruzione\n",
        "  istruzione\n",
        "  ..."
      ],
      "execution_count": null,
      "outputs": []
    },
    {
      "cell_type": "markdown",
      "metadata": {
        "id": "SBZkAiAmGXB2"
      },
      "source": [
        "IF - ELSE"
      ]
    },
    {
      "cell_type": "code",
      "metadata": {
        "id": "ilZ_Fb2MGjVv"
      },
      "source": [
        "if condizione1:\n",
        "  istruzione1\n",
        "elif condizione2:       # istruzione2 viene eseguita se condizione2 è vera\n",
        "  istruzione2\n",
        "\n",
        "if condizione1:\n",
        "  istruzione1\n",
        "else:                   # istruzione2 viene eseguita se tutte le precedenti non sono vere\n",
        "  istruzione2"
      ],
      "execution_count": null,
      "outputs": []
    },
    {
      "cell_type": "markdown",
      "metadata": {
        "id": "YMoDKMaWGntn"
      },
      "source": [
        "IN-LINE IF"
      ]
    },
    {
      "cell_type": "code",
      "metadata": {
        "id": "-j6hdlOQGsZY"
      },
      "source": [
        "if condizione1: istruzione1                     # permette una sola linea di istruzioni\n",
        "\n",
        "istruzione1 if condizione1 else istruzione2     # è obbligatorio specificare istruzione2 dopo else...\n",
        "\n",
        "istruzione1 if condizione1 else None            # ...ma istruzione2 può essere un'operazione nulla"
      ],
      "execution_count": null,
      "outputs": []
    },
    {
      "cell_type": "markdown",
      "metadata": {
        "id": "b2j-UsZKHGel"
      },
      "source": [
        "WHILE LOOP"
      ]
    },
    {
      "cell_type": "code",
      "metadata": {
        "id": "yOTcGpO2HKfQ"
      },
      "source": [
        "while condizione:\n",
        "  istruzione\n",
        "  istruzione\n",
        "  ...\n",
        "\n",
        "while condizione1:\n",
        "  ...\n",
        "  if condizione2:\n",
        "    break                 # esce dal ciclo while\n",
        "  ...\n",
        "\n",
        "while condizione1:\n",
        "  ...\n",
        "  if condizione2:\n",
        "    continue              # salta le istruzioni successive e ricomincia un nuovo ciclo while"
      ],
      "execution_count": null,
      "outputs": []
    },
    {
      "cell_type": "markdown",
      "metadata": {
        "id": "Ok3WwL3xHOIz"
      },
      "source": [
        "FOR LOOP"
      ]
    },
    {
      "cell_type": "code",
      "metadata": {
        "id": "gWI72wW8HRTv"
      },
      "source": [
        "for var in iter:          # var è la variabile contatore, iter può essere una lista, una tupla...\n",
        "  istruzione\n",
        "  istruzione\n",
        "  ..."
      ],
      "execution_count": null,
      "outputs": []
    },
    {
      "cell_type": "markdown",
      "metadata": {
        "id": "ymMSesnfHkBL"
      },
      "source": [
        "ITERABILI ED ITERATORI\\\n",
        "In Python qualsiasi oggetto che contiene una sequenza ordinata di dati è definito **iterabile** (**iterable**).\\\n",
        "Liste e tuple sono gli iterabili più comuni.\\\n",
        "Sequenze iterabili, da utilizzare ad esempio nei cicli for, possono essere creati con la funzione `range()`"
      ]
    },
    {
      "cell_type": "code",
      "metadata": {
        "id": "27uHxQjkhJMZ"
      },
      "source": [
        "range(10):              # sequenza di numeri interi da 0 a 10 escluso\n",
        "range(1,10,2):          # sequenza di numeri interi da 1 a 10 escluso e passo 2\n",
        "range(10,0,-1)          # sequenza di numeri interi da 10 a 0 escluso e passo -1"
      ],
      "execution_count": null,
      "outputs": []
    },
    {
      "cell_type": "code",
      "metadata": {
        "id": "Dh7XNuwzK4vc"
      },
      "source": [
        "for x in range(10):\n",
        "  print(x)              # stampa la sequenza da 0 a 9"
      ],
      "execution_count": null,
      "outputs": []
    },
    {
      "cell_type": "markdown",
      "metadata": {
        "id": "ZwkO503CLSla"
      },
      "source": [
        "Per associare un numero progressivo agli elementi iterati si utilizza la funzione `enumerate()` che crea una tupla (indice, valore):"
      ]
    },
    {
      "cell_type": "code",
      "metadata": {
        "id": "eMK2HcgGKL30"
      },
      "source": [
        "for num, var in enumerate(iter):\n",
        "  print(f'Elemento {var} in posizione {num}')"
      ],
      "execution_count": null,
      "outputs": []
    },
    {
      "cell_type": "markdown",
      "metadata": {
        "id": "xhq5vrVjIog4"
      },
      "source": [
        "un **iterabile** viene trasformato in un **iteratore** con la funzione `iter()`.\\\n",
        "L'**iteratore** è un oggetto che possiede vari metodi per la manipolazione e l'accesso ai suoi elementi; la funzione `next()` consente di accedere sequenzialmente agli elementi dell'iteratore ricordando la posizione dell'indice ad ogni chiamata:"
      ]
    },
    {
      "cell_type": "code",
      "metadata": {
        "id": "zsMZq8bZMI7e"
      },
      "source": [
        "mylist = [1,'a',2,'b',3,'c']\n",
        "myiter = iter(mylist)\n",
        "print(next(myiter))           # stampa 1\n",
        "print(next(myiter))           # stampa a\n",
        "print(next(myiter))           # stampa 2"
      ],
      "execution_count": null,
      "outputs": []
    },
    {
      "cell_type": "markdown",
      "metadata": {
        "id": "w4o6fzOGXygL"
      },
      "source": [
        "####GESTIONE DELLE ECCEZIONI"
      ]
    },
    {
      "cell_type": "markdown",
      "metadata": {
        "id": "aCJ0qfJkMrI2"
      },
      "source": [
        "Un programma Python si interrompe quando viene riscontrato un errore di sintassi del codice (ad es. errata indentazione) oppure si verifica un'eccezione (*exception*).\\\n",
        "Un *exception error* può essere anche generato intenzionalmente, ad esempio per scopi di debug:"
      ]
    },
    {
      "cell_type": "code",
      "metadata": {
        "id": "TGPNuFqjNL9d"
      },
      "source": [
        "raise Exception('Operazione non consentita!')"
      ],
      "execution_count": null,
      "outputs": []
    },
    {
      "cell_type": "markdown",
      "metadata": {
        "id": "IYjyG0nfNQdy"
      },
      "source": [
        "Per controllare la possibile comparsa di un errore che fermerebbe l'esecuzione del programma, si racchiude la parte di codice da controllare in una struttura *try/except*.\\\n",
        "In questo modo l'esecuzione del codice continua dalla riga successiva al blocco *except*"
      ]
    },
    {
      "cell_type": "code",
      "metadata": {
        "id": "kUl8vl1cOEP4"
      },
      "source": [
        "try:\n",
        "    a = 5 / 0\n",
        "except:\n",
        "    print('errore!')\n",
        "    \n",
        "try:\n",
        "    a = 5 / 0\n",
        "except Exception as e:                      # cattura l'exception error e ne memorizza il tipo\n",
        "    print(e)"
      ],
      "execution_count": null,
      "outputs": []
    },
    {
      "cell_type": "markdown",
      "metadata": {
        "id": "qV2VFFK2OkmZ"
      },
      "source": [
        "Ogni *exception error* è caratterizzato da un nome che può essere utilizzato per rendere la gestione ancora più mirata, alcuni esempi sono:"
      ]
    },
    {
      "cell_type": "code",
      "metadata": {
        "id": "w0gfeRMzX3XI"
      },
      "source": [
        "import modulo_non_esistente                 # ModuleNotFoundError\n",
        "\n",
        "a = variabile_non_definita                  # NameError\n",
        "\n",
        "f = open('file_non_esistente.txt'):         # FileNotFoundError\n",
        "\n",
        "a = [0, 1, 2]\n",
        "a.remove(3)                                 # ValueError\n",
        "\n",
        "a = 5 + \"10\"                                # TypeError\n",
        "\n",
        "a = [0, 1, 2]\n",
        "value = a[5]                                # IndexError\n",
        "\n",
        "my_dict = {\"name\": \"Max\", \"city\": \"Boston\"}\n",
        "age = my_dict[\"age\"]                        # KeyError"
      ],
      "execution_count": null,
      "outputs": []
    },
    {
      "cell_type": "markdown",
      "metadata": {
        "id": "o0-WzHbt4yqd"
      },
      "source": [
        "####FUNZIONI"
      ]
    },
    {
      "cell_type": "markdown",
      "metadata": {
        "id": "T9GIlA8pPYpF"
      },
      "source": [
        "Una funzione Python viene dichiarata con la sintassi:  `def nomefunzione(arg1, arg2, arg3 = 100, arg4 = 0):`\n",
        "- `arg1` e `arg2` sono argomenti di input **obbligatori** (*positional arguments*)\n",
        "- `arg3` e `arg4` sono argomenti di input **facoltativi** (*keyword arguments*) e vanno posti dopo quelli obbligatori. Se non vengono specificati in fase di chiamata della funzione, assumono i valori di default: `arg3 = 100`, `arg4 = 0`\n",
        "- `return` termina l'esecuzione della funzione e restituisce uno o più valori, separati da virgola. `return` è facoltativo, può essere assente o può essere presente in più parti della funzione.\n",
        "\n",
        "Il corpo della funzione ed il return devono avere la stessa indentazione.\n"
      ]
    },
    {
      "cell_type": "code",
      "metadata": {
        "id": "NWlWphxmPgew"
      },
      "source": [
        "def nomefunzione(arg1, arg2, arg3 = 100, arg4 = 0):\n",
        "  istruzione\n",
        "  istruzione\n",
        "  ...\n",
        "  return val1, val2"
      ],
      "execution_count": null,
      "outputs": []
    },
    {
      "cell_type": "code",
      "metadata": {
        "id": "fmHUNd-hTRVQ"
      },
      "source": [
        "def fattoriale(n):              # Esempio di funzione ricorsiva (nested function)\n",
        "  if n==0:\n",
        "    return 1                    # sono possibili return multipli legati ad una struttura condizionale\n",
        "  else:\n",
        "    return n *fattoriale(n-1)   # valore di return calcolato in-place"
      ],
      "execution_count": null,
      "outputs": []
    },
    {
      "cell_type": "markdown",
      "metadata": {
        "id": "QlkTNEK4ThpY"
      },
      "source": [
        "Con la seguente sintassi si definisce una funzione che accetta un numero arbitrario di parametri di input:"
      ]
    },
    {
      "cell_type": "code",
      "metadata": {
        "id": "q-zx0NwyTs5J"
      },
      "source": [
        "def nomefunzione(*args):        # la funzione accetta un numero arbitrario di argomenti di tipo positional e li inserisce in una tupla\n",
        "  pass                          # blocchi condizionali e funzioni devono contenere almeno una riga di istruzioni, \"pass\" rappresenta un'istruzione nulla\n",
        "\n",
        "def nomefunzione(**kwargs):     # la funzione accetta un numero arbitrario di argomenti di tipo keyword e li inserisce in una tupla\n",
        "  pass"
      ],
      "execution_count": null,
      "outputs": []
    },
    {
      "cell_type": "markdown",
      "metadata": {
        "id": "72CHuMJ1SRJX"
      },
      "source": [
        "La chiamata della funzione deve essere fatta dopo la sua definizione. I valori di ritorno possono essere gestiti in diversi modi.\\\n",
        "Gli argomenti obbligatori vanno passati rispettando la posizione, mentre gli argomenti facoltativi possono essere passati anche senza rispettare l'ordine"
      ]
    },
    {
      "cell_type": "code",
      "metadata": {
        "id": "SV9bQvy5SWcE"
      },
      "source": [
        "r = nomefunzione(111, 222, arg4=50, arg3=2)                   # assegnazione dei valori di ritorno ad una sola variabile (tupla): r = (val1, val2)\n",
        "\n",
        "somma, differenza = nomefunzione(111, 222, arg4=50, arg3=2)   # assegnazione dei valori di ritorno a due variabili differenti (value unpack, spacchettamento della tupla)\n",
        "somma, _ = nomefunzione(111, 222, arg4=50, arg3=2)            # segnaposto (placeholder) _ per le variabili di ritorno che non verranno utilizzate "
      ],
      "execution_count": null,
      "outputs": []
    },
    {
      "cell_type": "markdown",
      "metadata": {
        "id": "kSTyiy03TxXI"
      },
      "source": [
        "LAMBDA FUNCTIONS\\\n",
        "Le funzioni lambda sono funzioni rapide espresse in una singola linea"
      ]
    },
    {
      "cell_type": "code",
      "metadata": {
        "id": "wRcbr_GH41Y-"
      },
      "source": [
        "f = lambda a : a + 10                   # una sola variabile di input\n",
        "f(100)                                  # chiamata della funzione, stampa 110\n",
        "\n",
        "d = lambda a, b, c : b**2-4*a*c         # variabili multiple di input\n",
        "d(4, 3, 5)                              # chiamata della funzione"
      ],
      "execution_count": null,
      "outputs": []
    },
    {
      "cell_type": "markdown",
      "metadata": {
        "id": "4QkvjyXDT-yl"
      },
      "source": [
        "MAP\\\n",
        "L'operatore `map(funzione, iter)` chiama la *funzione* passando in sequenza tutti gli elementi di un *iteratore* (lista, tupla, ...)\\\n",
        "La funzione può avere una struttura classica o può essere una lambda function"
      ]
    },
    {
      "cell_type": "code",
      "metadata": {
        "id": "EiTv8RHFUIuP"
      },
      "source": [
        "a = (1,2,3,4,5)                 \n",
        "map(lambda x: x**2, a)\n",
        "\n",
        "print(tuple(map(lambda x: x**2, a)))    # i singoli output dell'operatore MAP vanno inseriti in una struttura tupla, lista o set\n",
        "                                        # restituisce (1,4,9,16,25)"
      ],
      "execution_count": null,
      "outputs": []
    },
    {
      "cell_type": "markdown",
      "metadata": {
        "id": "BDbVA7dE43gW"
      },
      "source": [
        "####CLASSI"
      ]
    },
    {
      "cell_type": "markdown",
      "metadata": {
        "id": "HkVi8DBFJ7ve"
      },
      "source": [
        "Python è un linguaggio Object Oriented, in cui le classi rappresentano gli oggetti principali.\\\n",
        "Una classe viene definita con il comando:"
      ]
    },
    {
      "cell_type": "code",
      "metadata": {
        "id": "JMpRf5jLKHtJ"
      },
      "source": [
        "class nomeclasse:\n",
        "  variabili           # attributi della classe\n",
        "  funzioni            # metodi della classe"
      ],
      "execution_count": null,
      "outputs": []
    },
    {
      "cell_type": "markdown",
      "metadata": {
        "id": "ykIyM5CPKO6r"
      },
      "source": [
        "mentre per creare l'istanza di una classe ed accedere ai suoi metodi e alle sue variabili:"
      ]
    },
    {
      "cell_type": "code",
      "metadata": {
        "id": "0OV130KLKYMe"
      },
      "source": [
        "x = nomeclasse()      # creazione di una nuova istanza della classe\n",
        "x.variabile           # accesso agli attributi della classe         \n",
        "x.funzione            # accesso alle funzioni della classe"
      ],
      "execution_count": null,
      "outputs": []
    },
    {
      "cell_type": "markdown",
      "metadata": {
        "id": "XY98WWJVKcux"
      },
      "source": [
        "In generale ogni classe contiene il metodo costruttore `__init__()` che viene eseguito alla sua creazione e può contenere parametri di input:"
      ]
    },
    {
      "cell_type": "code",
      "metadata": {
        "id": "i5UY4nOhKlaL"
      },
      "source": [
        "class myclass:\n",
        "  def __init__(self, arg1, arg2):     # il parametro self permette di accedere a tutte le proprietà dall'interno della classe\n",
        "    self.arg1 = arg1\n",
        "    self.arg2 = arg2\n",
        "  def func1(self):\n",
        "    print(self.arg1 + self.arg2)\n",
        "  def func2(self):\n",
        "    print(self.arg1 - self.arg2)\n",
        "\n",
        "x = myclass(10, 20)                   # istanza, prende in ingresso i parametri richiesti dal costruttore\n",
        "x.func1()                             # stampa 30"
      ],
      "execution_count": null,
      "outputs": []
    },
    {
      "cell_type": "markdown",
      "metadata": {
        "id": "sOWUE_1aKtRv"
      },
      "source": [
        "SUBCLASS\\\n",
        "Una sottoclasse è una classe che viene definita ereditando metodi e proprietà di una classe parent (ereditarietà).\\\n",
        "In questo caso `mysubclass` eredita da `myclass` la sola funzione `func2`, poichè `func1` viene ridefinita, assieme ad un nuovo costruttore e due nuove funzioni (`func3` e `func4`)"
      ]
    },
    {
      "cell_type": "code",
      "metadata": {
        "id": "Dr6WLvEX46v-"
      },
      "source": [
        "class mysubclass(myclass):\n",
        "  def __init__(self, arg1, arg2, arg3):\n",
        "    self.arg1 = arg1\n",
        "    self.arg2 = arg2\n",
        "    self.__arg3 = arg3            # un attributo con due trattini bassi prima del nome è privato e non può essere usato all'esterno della classe\n",
        "  def func1(self):                # un metodo di una sottoclasse con lo stesso nome di un metodo della classe parent sostituisce quest'ultimo (OVERRIDE)\n",
        "    print(self.arg1 * self.arg2)\n",
        "  def func3(self):                \n",
        "    print(self.arg1 / self.arg2)\n",
        "  def func4(self):\n",
        "    return self.__arg3            # l'unico modo per ottenere un attributo privato è con una funzione apposita (getter)\n",
        "\n",
        "y = mysubclass(10,20, 100)\n",
        "y.func1()                         \n",
        "y.func2()\n",
        "y.func3()\n",
        "y.func4()"
      ],
      "execution_count": null,
      "outputs": []
    },
    {
      "cell_type": "markdown",
      "metadata": {
        "id": "pb5iS-VxObWf"
      },
      "source": [
        "il metodo `super()` specifica che il costruttore della subclass è identico a quello della classe parent, eventualmente con un diverso ordine degli input. In generale con `super()` si accede dalla subclass ai metodi e attributi della classe parent."
      ]
    },
    {
      "cell_type": "code",
      "metadata": {
        "id": "siB0-lpTNLzm"
      },
      "source": [
        "class mysubclass(myclass):\n",
        "  def __init__(self, arg1, arg2):\n",
        "    super().__init__(arg2, arg1)            # mysubclass ha lo stesso costruttore di myclass, ma passa i due argomenti in ordine inverso\n",
        "\n",
        "z = mysubclass(1,2)"
      ],
      "execution_count": null,
      "outputs": []
    },
    {
      "cell_type": "markdown",
      "metadata": {
        "id": "VPqsiSlzQj49"
      },
      "source": [
        "####MODULI E LIBRERIE"
      ]
    },
    {
      "cell_type": "markdown",
      "metadata": {
        "id": "GE9LY4QXR0cF"
      },
      "source": [
        "Un modulo Python è un file con estensione .py che contiene classi e funzioni aggiuntive rispetto a quelle di built-in.\\\n",
        "La *Python standard library* è una collezione di moduli base che viene installata assieme all'interprete Python; per conoscere la lista di funzioni standard consultare la [documentazione ufficiale](https://docs.python.org/3/library/)\\\n",
        "Un **package** (libreria) è un insieme di moduli organizzati gerarchicamente (module/submodule/...)\\\n",
        "Per utilizzare le funzionalità di un modulo o di un package installato, occorre importarlo:"
      ]
    },
    {
      "cell_type": "code",
      "metadata": {
        "id": "Bg7jaMjIOkCA"
      },
      "source": [
        "import math                     # importa tutte le funzioni del package che possono essere chiamate con package.funzione()\n",
        "print(math.log(100))\n",
        "\n",
        "from math import log            # importa una specifica funzione che può essere chiamata con il solo nome\n",
        "print(log(100))\n",
        "\n",
        "from math import *              # importa tutte le funzioni del modulo che possono essere chiamata con il solo nome, (bad practice, può causare ambiguità tra funzioni con lo stesso nome)\n",
        "print(log(100))\n",
        "\n",
        "import numpy\n",
        "from torch.nn import Linear     # importa una funzione/classe specifica da una libreria divisa in moduli e submoduli \n",
        "import os, sys, glob            # sono possibili import multipli sulla stessa linea\n",
        "\n",
        "print(np.__version__)           # molte librerie restituiscono il numero di versione correntemente installata"
      ],
      "execution_count": null,
      "outputs": []
    },
    {
      "cell_type": "markdown",
      "metadata": {
        "id": "09Vn-QN8VJMV"
      },
      "source": [
        "`import as` permette di rinominare il package importato, per comodità nei successivi utilizzi:"
      ]
    },
    {
      "cell_type": "code",
      "metadata": {
        "id": "eVn0lSwcVfOi"
      },
      "source": [
        "import numpy as np\n",
        "np.__version__                  # stampa il numero di versione installata"
      ],
      "execution_count": null,
      "outputs": []
    },
    {
      "cell_type": "markdown",
      "metadata": {
        "id": "MqTljGkAVu0h"
      },
      "source": [
        "`dir` stampa la lista delle funzioni contenute nel package:"
      ]
    },
    {
      "cell_type": "code",
      "metadata": {
        "id": "2hd1tPMSSqsX"
      },
      "source": [
        "import math\n",
        "dir(math)"
      ],
      "execution_count": null,
      "outputs": []
    },
    {
      "cell_type": "markdown",
      "metadata": {
        "id": "ew3ebSTtV_4t"
      },
      "source": [
        "Google Colab mette a disposizione una grande quantità di packages, oltre a quelli della Python Standard Library, assieme al gestore di pacchetti **pip** che possiamo utilizzare per installare i moduli non presenti, dal Python Package Index (PyPi)"
      ]
    },
    {
      "cell_type": "code",
      "metadata": {
        "id": "H18n-AvuuXDF"
      },
      "source": [
        "!pip list                                     # elenca la lista dei pacchetti installati\n",
        "\n",
        "!pip install somepackage                      # Installa somepackage\n",
        "!pip install -q somepackage                   # -q (quiet) riduce gli output del terminale\n",
        "!pip install somepackage==numeroversione      # Installa una specifica versione del pacchetto, se non specificato installa la più recente stabile\n",
        "                                              # può essere utile se una funzione presenta un bug o per compatibilità con progetti datati"
      ],
      "execution_count": null,
      "outputs": []
    },
    {
      "cell_type": "markdown",
      "metadata": {
        "id": "H4tNYiVo5cfV"
      },
      "source": [
        "#### SYSTEM INTERACTIONS"
      ]
    },
    {
      "cell_type": "markdown",
      "metadata": {
        "id": "LBhyJPO-Xeu3"
      },
      "source": [
        "Per sviluppare progetti di Machine Learning è necessario poter interagire con il filesystem della macchina che esegue il codice, principalmente per:\n",
        "- caricare dataset personalizzati\n",
        "- salvare dati di grandi dimensioni, come ad es. dataset pre-processati che richiedono notevoli tempi di calcolo\n",
        "- salvare i progressi intermedi dell'addestramento della rete neurale, (*checkpoint*)\n",
        "- salvare i progressi finali dell'addestramento e delle fasi di *validation* e *test*\n",
        "\n",
        "La scrittura e la lettura di files viene eseguita con le funzioni della libreria standard.\\\n",
        "Inizialmente, che esista o meno, un file deve essere aperto con `f = open(nomefile, mode)`.\\\n",
        "*f* è il nome dell'istanza associato allo specifico file, che verrà usata per tutte le operazioni.   "
      ]
    },
    {
      "cell_type": "code",
      "metadata": {
        "id": "VzJnyW6uaNPX"
      },
      "source": [
        "f = open('abc.txt', 'w')      # nel filesystem colab il file viene memorizzato in /content (current working directory)\n",
        "                    \n",
        "# Modalità di apertura:\n",
        "f = open('abc.txt', 'r')      # apre un file esistente in sola lettura\n",
        "f = open('abc.txt', 'w')      # crea un nuovo file in sola scrittura, se esiste lo sovrascrive \n",
        "f = open('abc.txt', 'x')      # crea un nuovo file\n",
        "f = open('abc.txt', 'a')      # crea un nuovo file in sola scrittura, se esiste appende il contenuto alla fine\n",
        "f = open('abc.txt', 'w+')     # crea un nuovo file in lettura e scrittura, se esiste lo sovrascrive"
      ],
      "execution_count": null,
      "outputs": []
    },
    {
      "cell_type": "markdown",
      "metadata": {
        "id": "osejvU3gaqFu"
      },
      "source": [
        "Scrittura: (il file deve essere aperto in una modalità che consente la scrittura)\\\n",
        "Nei file possono essere scritti solamente dati di tipo *string*. Per integrare dati numerici si può utilizzare il casting o la formattazione di tipo *f-string* illustrata in precedenza:"
      ]
    },
    {
      "cell_type": "code",
      "metadata": {
        "id": "BUUMC7ufbfwv"
      },
      "source": [
        "cnt = 36\n",
        "f.write('ciao\\n')                        # scrive una stringa in una riga del file di testo e passa a capo riga            \n",
        "f.write(f'Il valore di cnt è {cnt}')     # scrive la seconda riga di testo con la variabile numerica formattata in stringa"
      ],
      "execution_count": null,
      "outputs": []
    },
    {
      "cell_type": "markdown",
      "metadata": {
        "id": "AXDAAzqYb85H"
      },
      "source": [
        "Lettura: (il file deve essere aperto in una modalità che consente la lettura)\n"
      ]
    },
    {
      "cell_type": "code",
      "metadata": {
        "id": "dxim5viDcWLT"
      },
      "source": [
        "r = f.read()                  # legge l'intero contenuto del file e lo mette in una variabile di tipo string\n",
        "r = f.readline()              # legge una sola riga del file, per leggere la riga successiva ri-eseguire la funzione readline\n",
        "r = f.readlines()             # legge l'intero contenuto del file e lo memorizza in una lista di variabili stringa"
      ],
      "execution_count": null,
      "outputs": []
    },
    {
      "cell_type": "markdown",
      "metadata": {
        "id": "KogN7as9csiR"
      },
      "source": [
        "al termine delle operazioni su file (lettura o scrittura) è opportuno chiudere l'istanza con  il comando:"
      ]
    },
    {
      "cell_type": "code",
      "metadata": {
        "id": "W6z7eomyctrl"
      },
      "source": [
        "f.close()"
      ],
      "execution_count": null,
      "outputs": []
    },
    {
      "cell_type": "markdown",
      "metadata": {
        "id": "HDmM7tN2cyoG"
      },
      "source": [
        "è comodo utilizzare lo statement `with-as` per racchiudere tutte le operazioni su un file e chiuderlo automaticamente al termine:"
      ]
    },
    {
      "cell_type": "code",
      "metadata": {
        "id": "Fry9UnX-c9ZT"
      },
      "source": [
        "with open('abc.txt', 'w') as f:\n",
        "    f.write('ciao\\n')\n",
        "    ...                                   # chiusura automatica del file al termine del blocco delle operazioni"
      ],
      "execution_count": null,
      "outputs": []
    },
    {
      "cell_type": "markdown",
      "metadata": {
        "id": "ZLRzxuv6dHfD"
      },
      "source": [
        "Le precedenti istruzioni eseguite in Colab salvano il file nel disco della VM; per accedere allo spazio disco del proprio Google Drive occorre prima montare il punto di accesso: (probabilmente verrà mostrata una procedura con la quale si chiede di autorizzare Colab ad accedere al proprio Drive):\n"
      ]
    },
    {
      "cell_type": "code",
      "metadata": {
        "id": "abR5NxLmdWt7"
      },
      "source": [
        "from google.colab import drive\n",
        "drive.mount('/content/drive')\n",
        "\n",
        "f = open('/drive/abc.txt', 'w')   # il file viene creato nella root directory del proprio drive"
      ],
      "execution_count": null,
      "outputs": []
    },
    {
      "cell_type": "markdown",
      "metadata": {
        "id": "fspSHYjApQjt"
      },
      "source": [
        "OS\\\n",
        "Il modulo OS mette a disposizione numerose funzioni di interazione con il filesystem, sia Windows, Linux o MAC. Di seguito sono riportate alcune delle funzioni più utili:"
      ]
    },
    {
      "cell_type": "code",
      "metadata": {
        "id": "Co2ju23weL66"
      },
      "source": [
        "import os\n",
        "\n",
        "os.getcwd()                           # get current working directory: stampa il nome della directory di lavoro corrente\n",
        "os.chdir('/new_work')                 # cambia la directory di lavoro corrente\n",
        "os.mkdir('new_folder')                # crea una nuova directory\n",
        "os.rmdir('old_folder')                # rimuove una directory\n",
        "os.listdir('/content/sample_data')    # elenca il contenuto di una directory: files e altre directory\n",
        "os.remove('abc.txt')                  # rimuove un file\n",
        "os.rename('abc.txt', 'def.txt')       # rinomina un file o una directory"
      ],
      "execution_count": null,
      "outputs": []
    },
    {
      "cell_type": "code",
      "metadata": {
        "id": "tJwaKK6xpeTR"
      },
      "source": [
        "import os.path as osp\n",
        "\n",
        "osp.exists('path/filename.ext')         # verifica se un file esiste, restituisce True o False\n",
        "osp.isdir('path')                       # verifica se una directory esiste, restituisce True o False\n",
        "osp.split('/dir1/dir2/.../file.ext')    # separa il nome file dal percorso e restituisce una tupla (percorso,nomefile)\n",
        "osp.join('dir', 'file.ext')             # unisce le due stringhe in un unico path con il separatore di sistema (slash o backslash a seconda del s.o.)"
      ],
      "execution_count": null,
      "outputs": []
    },
    {
      "cell_type": "markdown",
      "metadata": {
        "id": "NKVfr6hO4_1O"
      },
      "source": [
        "####NUMPY\n",
        "Numpy è una delle librerie Python per il calcolo scientifico più utilizzate. La struttura dati principale fornita da Numpy prende il nome di *n-dimensional array* (*ndarray*) e può contenere solo valori numerici, tutti dello stesso tipo.\n",
        "\n",
        "Le dimensioni di un *ndarray* vengono chiamate *assi*  e sono rappresentate da una tupla di valori interi."
      ]
    },
    {
      "cell_type": "code",
      "metadata": {
        "id": "oDa47fU85LrW"
      },
      "source": [
        "import numpy as np\n",
        "\n",
        "a = np.array([1,2,3,4])             # crea un array ad 1 dimensione, con 4 elementi\n",
        "print(a.shape)                      # Stampa una tupla di n valori che rappresentano il numero di elementi per ogni asse, in questo caso (4,)\n",
        "\n",
        "a = np.array([[1,2,3,4]])           # crea un array a 2 dimensioni, con gli stessi 4 elementi del precedente\n",
        "print(a.shape)                      # stampa (1,4)"
      ],
      "execution_count": null,
      "outputs": []
    },
    {
      "cell_type": "markdown",
      "metadata": {
        "id": "I0RX4I9CsLY2"
      },
      "source": [
        "anche se i due array precedenti contengono gli stessi elementi, essi hanno dimensioni differenti ed ammettono operazioni differenti."
      ]
    },
    {
      "cell_type": "code",
      "metadata": {
        "id": "gwA2CC_JsikS"
      },
      "source": [
        "a = np.array([[1],[2],[3],[4]])     # crea un array a 2 dimensioni, con gli stessi 4 elementi del precedente disposti lungo  il secondo asse\n",
        "print(a.shape)                      # stampa (4,1)\n",
        "\n",
        "a = np.array([1],[2],[3],[4])       # errore di sintassi"
      ],
      "execution_count": null,
      "outputs": []
    },
    {
      "cell_type": "markdown",
      "metadata": {
        "id": "l3b6e-oh28LB"
      },
      "source": [
        "i valori di un array numpy sono accessibili con le stesse regole di slicing delle liste e delle tuple, e sono **modificabili**"
      ]
    },
    {
      "cell_type": "code",
      "metadata": {
        "id": "-iCGLkc70Gtg"
      },
      "source": [
        "a = np.array([1,2,3,4,5,6,7,8,9])             # cambia un elemento di un array monodimensionale\n",
        "a[0] = 999\n",
        "print(a)"
      ],
      "execution_count": null,
      "outputs": []
    },
    {
      "cell_type": "code",
      "metadata": {
        "id": "6wk3BQqD3EUg"
      },
      "source": [
        "a = np.array([[1,2,3,4,5,6,7,8,9]])           # cambia un elemento di un array 2-dimensioni\n",
        "a[0,1] = 999                                  # devo specificare la posizione dell'elemento da cambiare, con tutti gli indici di asse in ordine\n",
        "print(a)"
      ],
      "execution_count": null,
      "outputs": []
    },
    {
      "cell_type": "markdown",
      "metadata": {
        "id": "lA5VVZYvtVCl"
      },
      "source": [
        "anche se l'array ha 2 dimensioni, specificarne una sola non genera errore. Questa operazione è detta *broadcasting* ed in generale permette di ripetere lo stesso comando per tutti gli elementi lungo la dimensione non specificata:"
      ]
    },
    {
      "cell_type": "code",
      "metadata": {
        "id": "6pZBZsr24KFg"
      },
      "source": [
        "a = np.array([[1,2,3,4,5,6,7,8,9]])           # cambia tutti gli elementi nell'asse 0\n",
        "a[0] = 999                                    # broadcasting\n",
        "print(a)"
      ],
      "execution_count": null,
      "outputs": []
    },
    {
      "cell_type": "code",
      "metadata": {
        "id": "hkJWJVr84pcJ"
      },
      "source": [
        "a = np.array([[1,2,3,4,5,6,7,8,9]])           # cambia tutti gli elementi nell'asse 0\n",
        "a[0,:] = 999                                  # stesso risultato del precedente blocco. l'indice \":\" significa \"tutti gli elementi\"\n",
        "print(a)"
      ],
      "execution_count": null,
      "outputs": []
    },
    {
      "cell_type": "code",
      "metadata": {
        "id": "RGtJCWxA44tA"
      },
      "source": [
        "a = np.array([[1,2,3,4,5,6,7,8,9]])           # cambia gli elementi dell'asse 0, nella posizione da 1 a 4 (escluso)\n",
        "a[0,1:4] = 999                                \n",
        "print(a)"
      ],
      "execution_count": null,
      "outputs": []
    },
    {
      "cell_type": "markdown",
      "metadata": {
        "id": "KTRL5WjDuT8a"
      },
      "source": [
        "Gli attributi più importanti per un *ndarray* sono:"
      ]
    },
    {
      "cell_type": "code",
      "metadata": {
        "id": "R5sC1297uZPe"
      },
      "source": [
        "a.ndim                          # restituisce il numero di dimensioni o assi dell'array\n",
        "a.shape                         # restituisce una tupla con il numero di elementi per ogni asse\n",
        "a.size                          # restituisce la dimensione globale (equivale al prodotto di tutte le dimensioni fornie da shape)\n",
        "a.dtype                         # restituisce il tipo degli elementi contenuti nell'array"
      ],
      "execution_count": null,
      "outputs": []
    },
    {
      "cell_type": "markdown",
      "metadata": {
        "id": "zmbJ3xMWva4Q"
      },
      "source": [
        "Alcune funzioni consentono di creare velocemente array di particolare utilità:"
      ]
    },
    {
      "cell_type": "code",
      "metadata": {
        "id": "ZxEVrhyJ50mZ"
      },
      "source": [
        "a = np.zeros((2,2))               # crea un array di dimensione (2,2) con tutti 0\n",
        "b = np.ones((1,2,3))              # crea un array di dimensione (1,2,3) con tutti 1\n",
        "c = np.full((2,2), 7)             # crea un array di dimensione (2,2) con tutti valori costanti (7)\n",
        "d = np.eye(2)                     # crea una matrice identità 2x2\n",
        "e = np.random.random((2,2))       # crea un array di dimensione (2,2) con valori random\n",
        "f = np.arange(10)                 # crea un array 1d con una sequenza di 10 valori (partendo da 0)\n",
        "g = np.arange(2, 20, 2)           # crea un array 1d con una sequenza di valori da 2 a 20 (escluso) e passo 2\n",
        "h = np.linspace(0, 10, 5)         # crea un array 1d con 5 valori equispaziati da 0 a 10 (incluso)"
      ],
      "execution_count": null,
      "outputs": []
    },
    {
      "cell_type": "markdown",
      "metadata": {
        "id": "5MaXv88x9agL"
      },
      "source": [
        "Sebbene gli array bidimensionali rappresentino delle matrici, numpy definisce il particolare tipo di dato `matrix`, che raccomanda di utilizzare per le operazioni tra matrici."
      ]
    },
    {
      "cell_type": "code",
      "metadata": {
        "id": "8efR8JbP0NKm"
      },
      "source": [
        "a = np.array([[1,2],[3,4]])       # array\n",
        "m = np.matrix('1 2 ; 3 4')        # matrice\n",
        "a_m = np.matrix(a)                # matrice definita da un array"
      ],
      "execution_count": null,
      "outputs": []
    },
    {
      "cell_type": "markdown",
      "metadata": {
        "id": "YwC23WkU0OGn"
      },
      "source": [
        "\n",
        "Alcuni degli operatori applicabili ad array 1D, 2D o dati di tipo `matrix` sono riportati di seguito (non operano in-place ma restituiscono un nuovo array come risultato):"
      ]
    },
    {
      "cell_type": "code",
      "metadata": {
        "id": "TOkd0OQm6W1i"
      },
      "source": [
        "np.add(a,b)                       # somma due scalari, due vettori o due matrici element-wise\n",
        "np.subtract(a,b)                  # sottrae due scalari, due vettori o due matrici element-wise\n",
        "np.multiply(a,b)                  # moltiplica due scalari, due vettori o due matrici element-wise\n",
        "np.divide(a,b)                    # divide due scalari, due vettori o due matrici element-wise\n",
        "np.power(a,2)                     # eleva a potenza uno scalari, un vettore o una matrice element-wise\n",
        "np.mod(a,b)                       # fornisce il resto della divisione tra due scalari, due vettori o due matrici element-wise\n",
        "\n",
        "np.inner(a,b)                     # prodotto scalare tra due vettori\n",
        "np.dot(a,b)                       # moltiplicazione tra matrici (con dimensioni opportune)\n",
        "np.transpose(a)                   # trasposizione\n",
        "np.trace(a)                       # traccia della matrice 2D\n",
        "np.linalg.matrix_rank(a)          # rango\n",
        "np.linalg.det(a)                  # determinante\n",
        "np.linalg.inv(a)                  # matrice inversa (solo se determinante != 0)\n",
        "np.linalg.pinv(a)                 # matrice pseudoinversa (se determinante = 0)\n",
        "np.linalg.eig(a)                  # autovalori e autovettori della matrice \n",
        "linalg.solve(a, b)                # risoluzione del sistema lineare ax = b\n",
        "np.linalg.svd(a)                  # singular value decomposition, restituisce la tupla (U,Sigma,V)"
      ],
      "execution_count": null,
      "outputs": []
    },
    {
      "cell_type": "markdown",
      "metadata": {
        "id": "rm8ShbiAv9ov"
      },
      "source": [
        "Un *ndarray* viene trattato come **iterable** lungo il suo primo asse (asse 0), o attraverso tutti gli elementi, utilizzando l'attributo `flat`:"
      ]
    },
    {
      "cell_type": "code",
      "metadata": {
        "id": "-fdpv5DY79k6"
      },
      "source": [
        "a = np.array([[1,2,3],[4,5,6],[7,8,9]])\n",
        "\n",
        "for r in a:\n",
        "  print(r)                # stampa [1 2 3] [4 5 6] [7 8 9]\n",
        "\n",
        "for r in a.flat:          # stampa 1 2 3 4 5 6 7 8 9\n",
        "  print(r)"
      ],
      "execution_count": null,
      "outputs": []
    },
    {
      "cell_type": "markdown",
      "metadata": {
        "id": "wWXxQxFryed5"
      },
      "source": [
        "Un array Numpy può essere copiato con tre procedure, che producono tre differenti \"livelli\" di copia.\\\n",
        "Semplice assegnazione: `b` e `a` sono due nomi per lo stesso array. Qualsiasi modifica su uno dei due si rispecchia nell'altro."
      ]
    },
    {
      "cell_type": "code",
      "metadata": {
        "id": "zHI572d0zZgp"
      },
      "source": [
        "b = a"
      ],
      "execution_count": null,
      "outputs": []
    },
    {
      "cell_type": "markdown",
      "metadata": {
        "id": "12x2KWaKz3si"
      },
      "source": [
        "View: `a` e `b` condividono i valori ma non la dimensione. Cambiando i valori di uno dei due, viene modificato anche l'altro, ma ridimensionando uno dei due l'altro resta invariato."
      ]
    },
    {
      "cell_type": "code",
      "metadata": {
        "id": "gLf0JFi90c1l"
      },
      "source": [
        "b = a.view()"
      ],
      "execution_count": null,
      "outputs": []
    },
    {
      "cell_type": "markdown",
      "metadata": {
        "id": "5EQ0goON0hnT"
      },
      "source": [
        "Copy: `a` e `b` sono due array inizialmente identici ma completamente scollegati, qualsiasi modifica su uno non si rispecchia nell'altro."
      ]
    },
    {
      "cell_type": "code",
      "metadata": {
        "id": "8hpJvE1J0yHR"
      },
      "source": [
        "b = a.copy()"
      ],
      "execution_count": null,
      "outputs": []
    },
    {
      "cell_type": "markdown",
      "metadata": {
        "id": "X57G504G11q7"
      },
      "source": [
        "Il ridimensionamento di un array numpy consiste nel variare il numero di assi e/o elementi per asse, mantenendo inalterata la quantità di elementi totali.\n",
        "- la funzione `reshape()` restituisce un nuovo array con la dimensione voluta, lasciando inalterata quella dell'array di origine.\n",
        "- la funzione `resize()` opera in-place modificando la dimensione dell'array di origine.\n",
        "- le funzioni `squeeze()` ed `expand_dims()` rispettivamente eliminano ed aggiungono un nuovo asse di dimensione 1"
      ]
    },
    {
      "cell_type": "code",
      "metadata": {
        "id": "D2atjdA022HL"
      },
      "source": [
        "a = np.random.random((2,3,4))         # array iniziale di dimensioni (2,3,4) con 24 elementi\n",
        "b = a.reshape(6,2,2)                  # 6x2x2 = 24 elementi, a rimane invariato\n",
        "c = a.reshape(4,6)                    # 4x6 = 24 elementi, a rimane invariato\n",
        "d = a.reshape(2,2,2,3)                # 2x2x2x3 = 24 elementi, a rimane invariato\n",
        "e = a.reshape(24)                     # 24 elementi, a rimane invariato\n",
        "\n",
        "a.resize((4,3,2))                     # nuova dimensione per a"
      ],
      "execution_count": null,
      "outputs": []
    },
    {
      "cell_type": "code",
      "metadata": {
        "id": "q232fR6JRrQC"
      },
      "source": [
        "x = np.array([[[0], [1], [2]]])       # array di dimensioni (1,3,1)\n",
        "x = np.squeeze(x)                     # toglie il primo asse: ora x ha dimensioni (3,1)\n",
        "x = np.expand_dims(x, axis=2)         # aggiunge un nuovo asse in posizione 2, ora x ha dimensioni (3,1,1)"
      ],
      "execution_count": null,
      "outputs": []
    },
    {
      "cell_type": "markdown",
      "metadata": {
        "id": "qhAKHsG25YgN"
      },
      "source": [
        "####MATPLOTLIB"
      ]
    },
    {
      "cell_type": "markdown",
      "metadata": {
        "id": "EvRyZ5FAOliZ"
      },
      "source": [
        "Matplotlib è una libreria grafica multipiattaforma che consente di visualizzare il contenuto di numerosi tipi di variabili Python; principalmente gli array Numpy, ma anche liste, tuple, tensori Tensorflow e Pytorch.\\\n",
        "Le modalità di utilizzo delle funzioni Matplotlib sono due: un'interfaccia stile Matlab, più semplice, a cui si farà riferimento nel seguito; e un'interfaccia object oriented più ricca di funzioni.\n",
        "\n",
        "Di seguito vengono mostrate le funzioni base per la creazione e visualizzazione di grafici, scatter plot, istogrammi a barre e immagini."
      ]
    },
    {
      "cell_type": "markdown",
      "metadata": {
        "id": "fjusnyQfTyV4"
      },
      "source": [
        "L'import del pakage avviene solitamente rinominando il riferimento in `plt`\\\n",
        "Per incorporare gli elementi grafici nell'output delle celle di un notebook è conveniente usare la direttiva `inline`, negli script questa direttiva non è necessaria ma deve essere sostituita dalla chiamata alla funzione `show()`"
      ]
    },
    {
      "cell_type": "code",
      "metadata": {
        "id": "5klVhyoW5alt"
      },
      "source": [
        "import matplotlib.pyplot as plt\n",
        "%matplotlib inline"
      ],
      "execution_count": null,
      "outputs": []
    },
    {
      "cell_type": "code",
      "metadata": {
        "id": "aoCFEomZToqY"
      },
      "source": [
        "import numpy as np\n",
        "x = np.linspace(0, 10, 100)\n",
        "y1 = np.sin(x)\n",
        "y2 = np.cos(x)\n",
        "y3 = np.sin(2*x)\n",
        "y4 = list(np.exp(x))"
      ],
      "execution_count": null,
      "outputs": []
    },
    {
      "cell_type": "markdown",
      "metadata": {
        "id": "4FLeGDSMU3aX"
      },
      "source": [
        "chiamando semplicemente la funzione plot i dati vengono visualizzati sulla stessa figura, con colori e stili differenti che si possono personalizzare.\\\n",
        "Come in MATLAB l'array della variabile indipendente x può essere omesso:"
      ]
    },
    {
      "cell_type": "code",
      "metadata": {
        "id": "LsLUSwd2TxZw"
      },
      "source": [
        "plt.plot(x, y1);                # il ; al termine del comando sopprime eventuali output di testo specifici di matplotlib\n",
        "plt.plot(x, y2, '--');          # cambia lo stile del tratteggio\n",
        "plt.plot(x, y3, 'r');           # cambia il colore della linea"
      ],
      "execution_count": null,
      "outputs": []
    },
    {
      "cell_type": "markdown",
      "metadata": {
        "id": "39XDDYPOVp14"
      },
      "source": [
        "per creare più figure distinte, separare ogni `plot` con la chiamata `plt.figure()`:"
      ]
    },
    {
      "cell_type": "code",
      "metadata": {
        "id": "t8-E03xuVplJ"
      },
      "source": [
        "plt.plot(x, y1);\n",
        "plt.figure();\n",
        "plt.plot(x, y2, '--');\n",
        "plt.figure();\n",
        "plt.plot(x, y3, 'r');"
      ],
      "execution_count": null,
      "outputs": []
    },
    {
      "cell_type": "markdown",
      "metadata": {
        "id": "Sg_-4yVpWq1p"
      },
      "source": [
        "Gli attributi (colori, tratteggi, markers..) possono essere definiti singolarmente in sostituzione di quelli di default:"
      ]
    },
    {
      "cell_type": "code",
      "metadata": {
        "id": "RJn56hIUWy_y"
      },
      "source": [
        "plt.plot(x, y4, color='green', marker='o', linestyle='dashed',linewidth=2, markersize=6);"
      ],
      "execution_count": null,
      "outputs": []
    },
    {
      "cell_type": "markdown",
      "metadata": {
        "id": "LF31RPZ5bs1B"
      },
      "source": [
        "In alternativa si possono applicare pacchetti di stili con i seguenti comandi:"
      ]
    },
    {
      "cell_type": "code",
      "metadata": {
        "id": "tlAmBrl-btIo"
      },
      "source": [
        "plt.style.use('classic')\n",
        "plt.style.use('fivethirtyeight')\n",
        "plt.style.use('ggplot')\n",
        "plt.style.use('bmh')\n",
        "plt.style.use('dark_background')\n",
        "plt.style.use('grayscale')"
      ],
      "execution_count": null,
      "outputs": []
    },
    {
      "cell_type": "markdown",
      "metadata": {
        "id": "A3VoE_iQX2gI"
      },
      "source": [
        "per salvare l'immagine occorre creare la figura e mantenere l'oggetto ritornato:"
      ]
    },
    {
      "cell_type": "code",
      "metadata": {
        "id": "pR1MVMSdXlsw"
      },
      "source": [
        "my_fig = plt.figure()\n",
        "# plot\n",
        "my_fig.savefig('my_figure.png')             # salva nel path specificato o nella current working directory"
      ],
      "execution_count": null,
      "outputs": []
    },
    {
      "cell_type": "markdown",
      "metadata": {
        "id": "vZ9b7XXAYlRz"
      },
      "source": [
        "Il meccanismo dei subplot è analogo a quello di Matlab:\\\n",
        "Con la funzione `subplot(righe, colonne, numero)` si specifica l'area di plot corrente (*numero*), in una griglia di (*righe* x *colonne*) figure.\\\n",
        "Ad esempio, due grafici sovrapposti verticalmente:"
      ]
    },
    {
      "cell_type": "code",
      "metadata": {
        "id": "diWVrHLcYmyn"
      },
      "source": [
        "plt.figure()\n",
        "plt.subplot(2, 1, 1)\n",
        "plt.plot(y1)\n",
        "plt.subplot(2, 1, 2)\n",
        "plt.plot(y2);"
      ],
      "execution_count": null,
      "outputs": []
    },
    {
      "cell_type": "markdown",
      "metadata": {
        "id": "dooIphnbZkED"
      },
      "source": [
        "o due grafici affiancati:"
      ]
    },
    {
      "cell_type": "code",
      "metadata": {
        "id": "48OKwV6SYu6I"
      },
      "source": [
        "plt.figure(figsize=(15,4))            # con figsize specifico la dimensione dell'immagine, in pollici\n",
        "plt.subplot(1, 2, 1)\n",
        "plt.plot(y1)\n",
        "plt.subplot(1, 2, 2)\n",
        "plt.plot(y2);"
      ],
      "execution_count": null,
      "outputs": []
    },
    {
      "cell_type": "markdown",
      "metadata": {
        "id": "ALMnw9mUdHhk"
      },
      "source": [
        "Funzioni per gestire la visualizzazione degli assi:"
      ]
    },
    {
      "cell_type": "code",
      "metadata": {
        "id": "KFLVLAMOdOSI"
      },
      "source": [
        "plt.xlim(-1, 11)                      # limiti asse orizzontale\n",
        "plt.ylim(-1.5, 1.5)                   # limiti asse verticale\n",
        "plt.axis([-1, 11, -1.5, 1.5])         # limiti su tutti gli assi (funzione alternativa alle due precedenti)\n",
        "plt.axis('tight')                     # adatta gli assi ai limiti della curva\n",
        "plt.axis('equal')                     # applica la stessa scala ad entrambi gli assi "
      ],
      "execution_count": null,
      "outputs": []
    },
    {
      "cell_type": "markdown",
      "metadata": {
        "id": "_laXNpj-df3o"
      },
      "source": [
        "Inserimento delle etichette degli assi e del titolo:"
      ]
    },
    {
      "cell_type": "code",
      "metadata": {
        "id": "rg6si4o9dqmb"
      },
      "source": [
        "plt.title('My Plot')\n",
        "plt.xlabel('time (s)')\n",
        "plt.ylabel('amplitude')"
      ],
      "execution_count": null,
      "outputs": []
    },
    {
      "cell_type": "markdown",
      "metadata": {
        "id": "8lIfyfjpd_ow"
      },
      "source": [
        "per inserire una legenda in un'immagine con uno o più curve occorre specificare per ognuna la propria etichetta:"
      ]
    },
    {
      "cell_type": "code",
      "metadata": {
        "id": "lpg_bYl6d_JQ"
      },
      "source": [
        "plt.plot(y1, label='sin(x)')\n",
        "plt.plot(y4, label='exp(x)')\n",
        "plt.legend(loc='upper left');               # posso specificare anche la posizione, in modo che non si sovrapponga al disegno"
      ],
      "execution_count": null,
      "outputs": []
    },
    {
      "cell_type": "markdown",
      "metadata": {
        "id": "k-p-l_kng4Mx"
      },
      "source": [
        "Scatter Plot\\\n",
        "Gli scatter plot sono rappresentazioni bidimensionali di coppie di valori (in questo caso i valori rappresentano le coordinate del punto in un piano cartesiano) o triplette di valori (in questo caso il terzo valore può essere rappresentato con una caratteristica grafica come una scala di colori o un marker di dimensioni proporzionali):"
      ]
    },
    {
      "cell_type": "code",
      "metadata": {
        "id": "dAPXRygOgZHg"
      },
      "source": [
        "# creazione di 100 campioni (x,y,v) interi random\n",
        "x = np.random.randint(-10,10,100)\n",
        "y = np.random.randint(-10,10,100)\n",
        "v = np.random.randint(0,100,100)\n",
        "\n",
        "plt.scatter(x, y, c=v, s=10*v, alpha=0.5)           # associo sia il colore (c) che la dimensione del punto (s) al valore di v\n",
        "plt.colorbar();                                     # mostra la barra di colori"
      ],
      "execution_count": null,
      "outputs": []
    },
    {
      "cell_type": "markdown",
      "metadata": {
        "id": "J-qjWjuNWyjJ"
      },
      "source": [
        "Istogrammi\\\n",
        "Gli istogrammi consentono di rappresentare la distribuzione di un insieme di dati numerici suddivisi in classi.\\\n",
        "Il comando base per creare un istogramma è il seguente:"
      ]
    },
    {
      "cell_type": "code",
      "metadata": {
        "id": "cMZ8w6soeT1Z"
      },
      "source": [
        "# creazione di 1000 campioni random che seguono una statistica gaussiana standard (media nulla e varianza unitaria)\n",
        "data = np.random.randn(1000)            \n",
        "plt.hist(data);"
      ],
      "execution_count": null,
      "outputs": []
    },
    {
      "cell_type": "markdown",
      "metadata": {
        "id": "Hb9Q3TSQefIg"
      },
      "source": [
        "tuttavia è spesso necessario controllare alcuni parametri, come il numero di classi visualizzate (bins), oppure il tipo di rappresentazione: densità di probabilità o funzione cumulativa:"
      ]
    },
    {
      "cell_type": "code",
      "metadata": {
        "id": "HPXBcTpvgmTz"
      },
      "source": [
        "plt.figure(figsize=(15,4))\n",
        "plt.subplot(1,3,1)\n",
        "plt.hist(data, bins=40)                        # frequenza assoluta\n",
        "plt.title('histogram')                       \n",
        "plt.subplot(1,3,2)\n",
        "plt.hist(data, bins=40, density=True)          # frequenza relativa\n",
        "plt.title('discrete PDF')\n",
        "plt.subplot(1,3,3)\n",
        "plt.hist(data, bins=40, cumulative=True)       # frequenza cumulata\n",
        "plt.title('discrete CDF');"
      ],
      "execution_count": null,
      "outputs": []
    },
    {
      "cell_type": "markdown",
      "metadata": {
        "id": "bwKTVJcrkeZp"
      },
      "source": [
        "è possibile rappresentare due o più serie di dati su un unico piano, a condizione che rappresentino lo stesso tipo di frequenza:"
      ]
    },
    {
      "cell_type": "code",
      "metadata": {
        "id": "OEVOKbPIee0D"
      },
      "source": [
        "# creazione di 1000 campioni random che seguono una statistica gaussiana a media e varianza definite\n",
        "x1 = np.random.normal(0, 0.5, 1000) \n",
        "x2 = np.random.normal(-2, 1, 1000)\n",
        "x3 = np.random.normal(3, 3, 1000)\n",
        "\n",
        "plt.hist(x1, alpha=0.6, density=True, bins=40)          # alpha imposta la trasparenza del colore, utile in caso di regioni sovrapposte\n",
        "plt.hist(x2, alpha=0.6, density=True, bins=40)\n",
        "plt.hist(x3, alpha=0.6, density=True, bins=40);"
      ],
      "execution_count": null,
      "outputs": []
    },
    {
      "cell_type": "markdown",
      "metadata": {
        "id": "nyzKKpjUglUb"
      },
      "source": [
        "Infine, per visualizzare un array bi-dimensionale, come ad esempio una funzione a 2 variabili, o un'immagine:"
      ]
    },
    {
      "cell_type": "code",
      "metadata": {
        "id": "CkMcFCWimyMO"
      },
      "source": [
        "x = y = np.arange(-3.0, 3.0, 0.1)                   # definisco i due vettori delle variabili indipendenti x e y\n",
        "X, Y = np.meshgrid(x, y)                            # creo una griglia bidimensionale\n",
        "Z = np.sin(X)*np.cos(Y)                             # variabile dipendente\n",
        "\n",
        "import matplotlib.image as mpimg            \n",
        "img = mpimg.imread('python.jpg')                    # carico l'immagine da disco"
      ],
      "execution_count": null,
      "outputs": []
    },
    {
      "cell_type": "code",
      "metadata": {
        "id": "7ir0VjnavwW5"
      },
      "source": [
        "plt.imshow(Z, origin='lower');                      # se non diversamente specificato il plot posiziona l'origine degli assi in alto a sinistra"
      ],
      "execution_count": null,
      "outputs": []
    },
    {
      "cell_type": "code",
      "metadata": {
        "id": "aaJSvuwKoBKD"
      },
      "source": [
        "plt.figure(figsize=(15,8))\n",
        "plt.subplot(2,3,1)\n",
        "plt.imshow(img)                                 # se l'immagine ha 3 canali viene applicata la mappatura colori RGB\n",
        "plt.subplot(2,3,2)\n",
        "plt.imshow(img[:,:,0])                          # visualizzando un solo canale viene applicata la mappa colori standard\n",
        "plt.subplot(2,3,3)\n",
        "plt.imshow(img[:,:,0], cmap='Greys_r')          # un canale visualizzato in scala di grigi\n",
        "plt.subplot(2,3,4)\n",
        "plt.imshow(img[:,:,0], cmap='Reds_r')           # primo canale visualizzato in scala di rossi\n",
        "plt.subplot(2,3,5)\n",
        "plt.imshow(img[:,:,1], cmap='Greens_r');        # secondo canale visualizzato in scala di verdi\n",
        "plt.subplot(2,3,6)\n",
        "plt.imshow(img[:,:,2], cmap='Blues_r');         # terzo canale visualizzato in scala di blu"
      ],
      "execution_count": null,
      "outputs": []
    },
    {
      "cell_type": "markdown",
      "metadata": {
        "id": "3Y9qdiqI86F5"
      },
      "source": [
        "\n",
        "\n",
        "---\n",
        "06/04/2022\n",
        "Aironi Carlo\n",
        "\n",
        "\n",
        "c.aironi@pm.univpm.it\n"
      ]
    }
  ]
}